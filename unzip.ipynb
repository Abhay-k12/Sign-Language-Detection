{
 "cells": [
  {
   "cell_type": "markdown",
   "metadata": {},
   "source": [
    "## Unzip"
   ]
  },
  {
   "cell_type": "code",
   "execution_count": 10,
   "metadata": {},
   "outputs": [
    {
     "name": "stdout",
     "output_type": "stream",
     "text": [
      "Extracted Indian sign Language-Real-life Words.zip to dataset\\Indian sign Language-Real-life Words\n"
     ]
    }
   ],
   "source": [
    "# Unzip\n",
    "\n",
    "import zipfile\n",
    "import os\n",
    "\n",
    "zip_dir = \"C:/Users/abhil/OneDrive/Desktop/sign-language-converter\"\n",
    "output_dir = \"dataset\"\n",
    "\n",
    "# Ensure the output directory exists\n",
    "os.makedirs(output_dir, exist_ok=True)\n",
    "\n",
    "# Iterate over all files in the zip directory\n",
    "for file in os.listdir(zip_dir):\n",
    "    if file.endswith(\".zip\"):\n",
    "        label = file.replace(\".zip\", \"\")  # Remove '.zip' to get the label name\n",
    "        label_dir = os.path.join(output_dir, label)\n",
    "        os.makedirs(label_dir, exist_ok=True)  # Create a directory for the label\n",
    "        \n",
    "        try:\n",
    "            with zipfile.ZipFile(os.path.join(zip_dir, file), 'r') as zip_ref:\n",
    "                zip_ref.extractall(label_dir)  # Extract contents\n",
    "            print(f\"Extracted {file} to {label_dir}\")\n",
    "        except zipfile.BadZipFile:\n",
    "            print(f\"Failed to extract {file}: Corrupt or invalid zip file\")"
   ]
  },
  {
   "cell_type": "markdown",
   "metadata": {},
   "source": []
  },
  {
   "cell_type": "code",
   "execution_count": 11,
   "metadata": {},
   "outputs": [
    {
     "name": "stdout",
     "output_type": "stream",
     "text": [
      "Extracted afraid.zip to extracted_data\\afraid\n",
      "Extracted agree.zip to extracted_data\\agree\n",
      "Extracted assistance.zip to extracted_data\\assistance\n",
      "Extracted bad.zip to extracted_data\\bad\n",
      "Extracted become.zip to extracted_data\\become\n",
      "Extracted college.zip to extracted_data\\college\n",
      "Extracted doctor.zip to extracted_data\\doctor\n",
      "Extracted from.zip to extracted_data\\from\n",
      "Extracted pain.zip to extracted_data\\pain\n",
      "Extracted pray.zip to extracted_data\\pray\n",
      "Extracted secondary.zip to extracted_data\\secondary\n",
      "Extracted skin.zip to extracted_data\\skin\n",
      "Extracted small.zip to extracted_data\\small\n",
      "Extracted specific.zip to extracted_data\\specific\n",
      "Extracted stand.zip to extracted_data\\stand\n",
      "Extracted today.zip to extracted_data\\today\n",
      "Extracted warn.zip to extracted_data\\warn\n",
      "Extracted which.zip to extracted_data\\which\n",
      "Extracted work.zip to extracted_data\\work\n",
      "Extracted you.zip to extracted_data\\you\n"
     ]
    }
   ],
   "source": [
    "import zipfile\n",
    "import os\n",
    "\n",
    "# Path to dataset folder containing zip files\n",
    "zip_dir = \"dataset\"\n",
    "# Output folder where images will be extracted\n",
    "output_dir = \"extracted_data\"\n",
    "\n",
    "# Ensure output directory exists\n",
    "os.makedirs(output_dir, exist_ok=True)\n",
    "\n",
    "# Iterate over all zip files in the dataset folder\n",
    "for file in os.listdir(zip_dir):\n",
    "    if file.endswith(\".zip\"):\n",
    "        zip_path = os.path.join(zip_dir, file)\n",
    "        \n",
    "        # Folder name same as ZIP file (without .zip)\n",
    "        folder_name = os.path.splitext(file)[0]\n",
    "        extract_path = os.path.join(output_dir, folder_name)\n",
    "        \n",
    "        # Create a folder for this sign\n",
    "        os.makedirs(extract_path, exist_ok=True)\n",
    "        \n",
    "        # Extract ZIP contents\n",
    "        with zipfile.ZipFile(zip_path, 'r') as zip_ref:\n",
    "            zip_ref.extractall(extract_path)\n",
    "        \n",
    "        print(f\"Extracted {file} to {extract_path}\")"
   ]
  },
  {
   "cell_type": "code",
   "execution_count": null,
   "metadata": {},
   "outputs": [],
   "source": [
    "import os\n",
    "import shutil\n",
    "\n",
    "root_dir = \"extracted_data\"\n",
    "for class_name in os.listdir(root_dir):\n",
    "    class_path = os.path.join(root_dir, class_name)\n",
    "    \n",
    "    # If there's a subfolder with the same name (e.g., afraid/afraid/)\n",
    "    if os.path.isdir(class_path):\n",
    "        inner_path = os.path.join(class_path, class_name)\n",
    "        if os.path.isdir(inner_path):\n",
    "            for user in os.listdir(inner_path):\n",
    "                user_path = os.path.join(inner_path, user)\n",
    "                if os.path.isdir(user_path):\n",
    "                    for img_file in os.listdir(user_path):\n",
    "                        src = os.path.join(user_path, img_file)\n",
    "                        dst = os.path.join(class_path, img_file)\n",
    "                        shutil.move(src, dst)\n",
    "                    print(f\"Moved images from {user_path}\")\n",
    "            shutil.rmtree(inner_path)  # Remove the nested folder"
   ]
  },
  {
   "cell_type": "code",
   "execution_count": null,
   "metadata": {},
   "outputs": [],
   "source": [
    "dataset = datasets.ImageFolder(\"extracted_data\", transform=transform)"
   ]
  },
  {
   "cell_type": "code",
   "execution_count": null,
   "metadata": {},
   "outputs": [],
   "source": [
    "dataloader = DataLoader(dataset, batch_size=32, shuffle=True)"
   ]
  }
 ],
 "metadata": {
  "kernelspec": {
   "display_name": "base",
   "language": "python",
   "name": "python3"
  },
  "language_info": {
   "codemirror_mode": {
    "name": "ipython",
    "version": 3
   },
   "file_extension": ".py",
   "mimetype": "text/x-python",
   "name": "python",
   "nbconvert_exporter": "python",
   "pygments_lexer": "ipython3",
   "version": "3.12.7"
  }
 },
 "nbformat": 4,
 "nbformat_minor": 2
}
